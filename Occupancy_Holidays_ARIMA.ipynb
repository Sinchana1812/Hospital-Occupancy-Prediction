{
  "nbformat": 4,
  "nbformat_minor": 0,
  "metadata": {
    "kernelspec": {
      "display_name": "Python 3",
      "language": "python",
      "name": "python3"
    },
    "language_info": {
      "codemirror_mode": {
        "name": "ipython",
        "version": 3
      },
      "file_extension": ".py",
      "mimetype": "text/x-python",
      "name": "python",
      "nbconvert_exporter": "python",
      "pygments_lexer": "ipython3",
      "version": "3.7.7"
    },
    "colab": {
      "name": "Occupancy_Holidays_ARIMA.ipynb",
      "provenance": [],
      "collapsed_sections": [
        "s7ASn8Mv-v1o",
        "7GjX-cYW5N05",
        "3YNK4ijoIeZL",
        "5NBFv3gjI-u0",
        "xA6x_PB6I2hi",
        "svcroeiNZ9wx",
        "CyvV-A7UrOq5",
        "DycEpXDCaR81",
        "uPSBSQzJWy0S",
        "UZjo3SVfF2HC",
        "oOy6u85zKX4V",
        "AVt9y4KUFiwx",
        "Y7g6xg1XVJwd",
        "lTk8qY6vKQEx",
        "gCxBTr6qUk_m",
        "j1p1RbeCLRw2",
        "uD4f51ZrLgze"
      ],
      "toc_visible": true
    }
  },
  "cells": [
    {
      "cell_type": "markdown",
      "metadata": {
        "id": "s7ASn8Mv-v1o",
        "colab_type": "text"
      },
      "source": [
        "# Import necessary libraries"
      ]
    },
    {
      "cell_type": "code",
      "metadata": {
        "ExecuteTime": {
          "end_time": "2020-08-17T09:56:57.113583Z",
          "start_time": "2020-08-17T09:56:57.110953Z"
        },
        "id": "WZm_4a-Y3ZNm",
        "colab_type": "code",
        "colab": {}
      },
      "source": [
        "#importing important libraries\n",
        "!pip install pmdarima\n",
        "import pandas as pd\n",
        "import numpy as np\n",
        "from pmdarima.arima import auto_arima\n",
        "from pmdarima.arima import ARIMA\n",
        "from matplotlib import pyplot as plt "
      ],
      "execution_count": null,
      "outputs": []
    },
    {
      "cell_type": "markdown",
      "metadata": {
        "id": "7GjX-cYW5N05",
        "colab_type": "text"
      },
      "source": [
        "# Necessary Functions"
      ]
    },
    {
      "cell_type": "code",
      "metadata": {
        "id": "zDdZfQv95JhI",
        "colab_type": "code",
        "colab": {}
      },
      "source": [
        "# Mean Absolute Percentage Error\n",
        "def mean_absolute_percentage_error(y_true, y_pred): \n",
        "  return np.round(np.mean(np.abs((y_pred - y_true) /np.abs(y_true))) * 100,decimals=2)\n",
        "# Mean Absolute Percentage Error  \n",
        "# def mean_absolute_percentage_error(y_true, y_pred): \n",
        "#     y_true, y_pred = np.array(y_true), np.array(y_pred)\n",
        "#     return np.mean(np.abs((y_true - y_pred) / y_true)) * 100\n",
        "# Mean Absolute Error\n",
        "def mean_absolute_error(y_true, y_pred): \n",
        "  return np.round(np.mean(np.abs((y_pred - y_true))),decimals=2)\n",
        "# Mean Sqaured Error\n",
        "def mean_squared_error( y_pred,y_true): \n",
        "  return np.round(np.mean((y_pred - y_true)**2),decimals=2)\n",
        "# Root Mean Sqaured Error\n",
        "def root_mean_squared_error(y_pred,y_true): \n",
        "  return np.round(np.sqrt(mean_squared_error(y_pred, y_true)),decimals=2)"
      ],
      "execution_count": null,
      "outputs": []
    },
    {
      "cell_type": "markdown",
      "metadata": {
        "id": "3YNK4ijoIeZL",
        "colab_type": "text"
      },
      "source": [
        "# Read the data\n",
        "\n",
        "Read the input hospital data and then set the index to the 'Date' column.\n",
        "\n",
        "Aggregate the 3 German States Holiday columns for both School and Public Holidays into one single column respectively"
      ]
    },
    {
      "cell_type": "code",
      "metadata": {
        "ExecuteTime": {
          "end_time": "2020-08-17T09:56:57.144138Z",
          "start_time": "2020-08-17T09:56:57.115368Z"
        },
        "id": "5L279eCl3ZNu",
        "colab_type": "code",
        "colab": {}
      },
      "source": [
        "#loading and conveting time series data by setting index as date\n",
        "df = pd.read_csv('ProcessedDataset.csv')\n",
        "df['Date'] = pd.to_datetime(df['Date'], format='%d-%m-%Y')\n",
        "df.index = df.Date\n",
        "#School holidays Aggregation\n",
        "holidays_S = pd.DataFrame({'School_holiday': df[[\"S_BW\", \"S_H\",\"S_RP\"]].max(axis=1)})\n",
        "holidays_S = holidays_S[[\"School_holiday\"]]\n",
        "holidays_P = pd.DataFrame({'Public_holiday': df[[\"P_BW\", \"P_H\",\"P_RP\"]].max(axis=1)})\n",
        "holidays = holidays_P[[\"Public_holiday\"]]\n",
        "holidays['School_holiday'] = holidays_S.School_holiday\n",
        "\n",
        "#Consider only the Occupancy\n",
        "df = df.drop('Date', axis=1)\n",
        "df = df[['Occupancy']]"
      ],
      "execution_count": null,
      "outputs": []
    },
    {
      "cell_type": "markdown",
      "metadata": {
        "id": "5NBFv3gjI-u0",
        "colab_type": "text"
      },
      "source": [
        "# Train Test Split for Model Preparation"
      ]
    },
    {
      "cell_type": "code",
      "metadata": {
        "ExecuteTime": {
          "end_time": "2020-08-17T09:56:57.293437Z",
          "start_time": "2020-08-17T09:56:57.286697Z"
        },
        "id": "JxvrZvbG3ZN_",
        "colab_type": "code",
        "colab": {}
      },
      "source": [
        "#divide into train and test set\n",
        "train = df['20080101':'20121231']\n",
        "test = df['20130101':'20130130']\n",
        "#Holidays\n",
        "holidays_train = holidays['20080101':'20121231']\n",
        "holidays_test = holidays['20130101':'20130130']"
      ],
      "execution_count": null,
      "outputs": []
    },
    {
      "cell_type": "markdown",
      "metadata": {
        "id": "xA6x_PB6I2hi",
        "colab_type": "text"
      },
      "source": [
        "# Plots \n",
        "\n",
        "Plot the Train and test data"
      ]
    },
    {
      "cell_type": "code",
      "metadata": {
        "ExecuteTime": {
          "end_time": "2020-08-17T09:56:57.285319Z",
          "start_time": "2020-08-17T09:56:57.148935Z"
        },
        "id": "4jfkFcnX3ZN5",
        "colab_type": "code",
        "colab": {}
      },
      "source": [
        "#visualizing timeseries data\n",
        "fig, ax = plt.subplots(figsize=(16,7))\n",
        "train.plot(ax=ax,legend=None)\n",
        "test.plot(ax=ax,color='r',legend=None)\n",
        "plt.axvline(x='2013-01-01',linewidth=1.5, color='black',linestyle='--')\n",
        "plt.axvspan('2013-01-01','2013-01-30', facecolor='r', alpha=0.3)\n",
        "plt.axvspan('2008-01-01','2012-12-31', facecolor='g', alpha=0.3)\n",
        "plt.xlabel('Date')\n",
        "plt.ylabel('Occupancy')"
      ],
      "execution_count": null,
      "outputs": []
    },
    {
      "cell_type": "markdown",
      "metadata": {
        "id": "vEeb5MJWWUUM",
        "colab_type": "text"
      },
      "source": [
        "# AUTO ARIMA \n",
        "Running Auto Arima Model to find the p, d and q parameters values and predicting on the test data\n",
        "Exogenous variables - School and Public Holidays of 3 German states\n",
        "\n",
        "Best Model considered with Least AIC"
      ]
    },
    {
      "cell_type": "markdown",
      "metadata": {
        "id": "svcroeiNZ9wx",
        "colab_type": "text"
      },
      "source": [
        "## Implementation"
      ]
    },
    {
      "cell_type": "code",
      "metadata": {
        "ExecuteTime": {
          "end_time": "2020-08-17T09:57:42.027944Z",
          "start_time": "2020-08-17T09:56:57.294632Z"
        },
        "id": "dqzsLdX33ZOE",
        "colab_type": "code",
        "colab": {}
      },
      "source": [
        "#training model\n",
        "model = auto_arima(train, trace=True,start_p=0, start_q=0, start_P=0, start_Q=0,\n",
        "                  max_p=10, max_q=10, max_P=10, max_Q=10, seasonal=True,\n",
        "                  stepwise=False, suppress_warnings=True, D=1, max_D=10,\n",
        "                  error_action='ignore',approximation = False,exogenous=holidays_train[['School_holiday','Public_holiday']])\n",
        "#fitting model\n",
        "model.fit(train)\n",
        "#predicting values for test \n",
        "y_pred = model.predict(n_periods=test.shape[0],exogenous=holidays_test[['School_holiday','Public_holiday']])"
      ],
      "execution_count": null,
      "outputs": []
    },
    {
      "cell_type": "code",
      "metadata": {
        "id": "Jv_EstqGoveV",
        "colab_type": "code",
        "colab": {}
      },
      "source": [
        "model"
      ],
      "execution_count": null,
      "outputs": []
    },
    {
      "cell_type": "code",
      "metadata": {
        "id": "T8OXFTmpaMmP",
        "colab_type": "code",
        "colab": {}
      },
      "source": [
        "#predict for train\n",
        "in_sample_preds = model.predict_in_sample()"
      ],
      "execution_count": null,
      "outputs": []
    },
    {
      "cell_type": "markdown",
      "metadata": {
        "id": "CyvV-A7UrOq5",
        "colab_type": "text"
      },
      "source": [
        "## Error Metrics\n",
        "Calculation of MAPE, MAE and RMSE - Test"
      ]
    },
    {
      "cell_type": "code",
      "metadata": {
        "ExecuteTime": {
          "end_time": "2020-08-17T09:57:42.046193Z",
          "start_time": "2020-08-17T09:57:42.034969Z"
        },
        "id": "aAQ8R7Q43ZOR",
        "colab_type": "code",
        "colab": {}
      },
      "source": [
        "# #evaluating model\n",
        "# print('Mean absolute percentage error: ',mean_absolute_percentage_error(test.values, y_pred))\n",
        "# print('Mean absolute error: ',mean_absolute_error(test.values, y_pred))\n",
        "# print('Root Mean Square error: ',root_mean_squared_error(y_pred,test.values))"
      ],
      "execution_count": null,
      "outputs": []
    },
    {
      "cell_type": "markdown",
      "metadata": {
        "id": "s05CEcDwTx26",
        "colab_type": "text"
      },
      "source": [
        "Calculation of MAPE, MAE and RMSE - Train"
      ]
    },
    {
      "cell_type": "code",
      "metadata": {
        "id": "eDPh9BthTaoU",
        "colab_type": "code",
        "colab": {}
      },
      "source": [
        "# print('Mean absolute percentage error: ',mean_absolute_percentage_error(train.values, in_sample_preds))\n",
        "# print('Mean absolute error: ',mean_absolute_error(train.values, in_sample_preds))\n",
        "# print('Root Mean Square error: ',root_mean_squared_error(in_sample_preds,train.values))"
      ],
      "execution_count": null,
      "outputs": []
    },
    {
      "cell_type": "markdown",
      "metadata": {
        "id": "3qahsidtWQtc",
        "colab_type": "text"
      },
      "source": [
        "# ARIMA \n",
        "Run the model on the Identified ARIMA model with least AIC"
      ]
    },
    {
      "cell_type": "markdown",
      "metadata": {
        "id": "DycEpXDCaR81",
        "colab_type": "text"
      },
      "source": [
        "## Implementation"
      ]
    },
    {
      "cell_type": "code",
      "metadata": {
        "id": "x0s8hqNWWFGG",
        "colab_type": "code",
        "colab": {}
      },
      "source": [
        "ar = ARIMA(maxiter=50, method='lbfgs', order=(5, 1, 0), out_of_sample_size=0,\n",
        "      scoring='mse', scoring_args={}, seasonal_order=(0, 0, 0, 1),\n",
        "      start_params=None, suppress_warnings=True, trend=None,\n",
        "      with_intercept=True,exogenous=holidays_train[['School_holiday','Public_holiday']])\n",
        "#fitting model\n",
        "ar.fit(train)\n",
        "#predicting values for test\n",
        "y_pred_ar = ar.predict(n_periods=test.shape[0],exogenous=holidays_train[['School_holiday','Public_holiday']])"
      ],
      "execution_count": null,
      "outputs": []
    },
    {
      "cell_type": "code",
      "metadata": {
        "id": "pj5ibs5LZdFW",
        "colab_type": "code",
        "colab": {}
      },
      "source": [
        "#predict for train\n",
        "in_sample_preds_ar = ar.predict_in_sample()"
      ],
      "execution_count": null,
      "outputs": []
    },
    {
      "cell_type": "markdown",
      "metadata": {
        "colab_type": "text",
        "id": "uPSBSQzJWy0S"
      },
      "source": [
        "## Error Metrics\n",
        "Calculation of MAPE, MAE and RMSE - Test"
      ]
    },
    {
      "cell_type": "code",
      "metadata": {
        "ExecuteTime": {
          "end_time": "2020-08-17T09:57:42.046193Z",
          "start_time": "2020-08-17T09:57:42.034969Z"
        },
        "colab_type": "code",
        "id": "nIQTKDLEWy0V",
        "colab": {}
      },
      "source": [
        "#evaluating model\n",
        "print('Mean absolute percentage error: ',mean_absolute_percentage_error(test.values, y_pred_ar))\n",
        "print('Mean absolute error: ',mean_absolute_error(test.values, y_pred_ar))\n",
        "print('Root Mean Square error: ',root_mean_squared_error(y_pred_ar,test.values))"
      ],
      "execution_count": null,
      "outputs": []
    },
    {
      "cell_type": "markdown",
      "metadata": {
        "colab_type": "text",
        "id": "hB9g90btWy0Z"
      },
      "source": [
        "Calculation of MAPE, MAE and RMSE - Train"
      ]
    },
    {
      "cell_type": "code",
      "metadata": {
        "colab_type": "code",
        "id": "OjaIOORjWy0Z",
        "colab": {}
      },
      "source": [
        "print('Mean absolute percentage error: ',mean_absolute_percentage_error(train.values, in_sample_preds_ar))\n",
        "print('Mean absolute error: ',mean_absolute_error(train.values, in_sample_preds_ar))\n",
        "print('Root Mean Square error: ',root_mean_squared_error(in_sample_preds_ar,train.values))"
      ],
      "execution_count": null,
      "outputs": []
    },
    {
      "cell_type": "markdown",
      "metadata": {
        "id": "UZjo3SVfF2HC",
        "colab_type": "text"
      },
      "source": [
        "# Plots "
      ]
    },
    {
      "cell_type": "markdown",
      "metadata": {
        "id": "QZGOvxkQabu8",
        "colab_type": "text"
      },
      "source": [
        "\n",
        "Actual vs Predictions (Test)"
      ]
    },
    {
      "cell_type": "code",
      "metadata": {
        "id": "lJ0lJfRV_xel",
        "colab_type": "code",
        "colab": {}
      },
      "source": [
        "# A vs P plot - Test\n",
        "O_df = pd.DataFrame(columns = ['Date','Occupancy'])\n",
        "O_df['Date'] = test.index\n",
        "O_df['Occupancy'] = y_pred_ar\n",
        "train_dft = train.loc['2012-09-01':'2012-12-31']\n",
        "ax = test.plot(y='Occupancy',label='Actual',legend=True)\n",
        "\n",
        "O_df.plot(x='Date',y='Occupancy',label='Predictions',legend=True,figsize=(6,4),ax=ax)"
      ],
      "execution_count": null,
      "outputs": []
    },
    {
      "cell_type": "markdown",
      "metadata": {
        "id": "RIH1ePaBGAA2",
        "colab_type": "text"
      },
      "source": [
        "Actual vs Predictions (Train)"
      ]
    },
    {
      "cell_type": "code",
      "metadata": {
        "id": "n4HcMBVM_86t",
        "colab_type": "code",
        "colab": {}
      },
      "source": [
        "# A vs P plot - Train\n",
        "O_dft = pd.DataFrame(columns = ['Date','Occupancy'])\n",
        "O_dft['Date'] = train.index\n",
        "O_dft['Occupancy'] = in_sample_preds_ar\n",
        "ax = train.plot(y='Occupancy',label='Actual',legend=True)\n",
        "O_dft.plot(x='Date',y='Occupancy',label='Predictions',legend=True,figsize=(10,4),ax=ax)"
      ],
      "execution_count": null,
      "outputs": []
    },
    {
      "cell_type": "code",
      "metadata": {
        "id": "BSZ2R7pAQY_6",
        "colab_type": "code",
        "colab": {}
      },
      "source": [
        "# A vs P plot - Test\n",
        "O_df = pd.DataFrame(columns = ['Date','Occupancy'])\n",
        "O_df['Date'] = test.index\n",
        "O_df['Occupancy'] = y_pred_ar\n",
        "ax = test.plot(y='Occupancy',label='Actual',legend=True)\n",
        "O_df.plot(x='Date',y='Occupancy',label='Predictions',legend=True,figsize=(6,4),ax=ax)"
      ],
      "execution_count": null,
      "outputs": []
    },
    {
      "cell_type": "markdown",
      "metadata": {
        "id": "oOy6u85zKX4V",
        "colab_type": "text"
      },
      "source": [
        "## plotting last month fit data"
      ]
    },
    {
      "cell_type": "code",
      "metadata": {
        "id": "pRelUj9rIICs",
        "colab_type": "code",
        "colab": {}
      },
      "source": [
        "# O_dft = O_dft[['20120101':'20121231']]\n",
        "O_dft = O_dft.loc['2012-09-01':'2012-12-31']\n",
        "train_dft = train.loc['2012-09-01':'2012-12-31']\n",
        "ax = train_dft.plot(y='Occupancy',label='Actual',legend=True)\n",
        "O_dft.plot(x='Date',y='Occupancy',label='Predictions',legend=True,figsize=(10,4),ax=ax)"
      ],
      "execution_count": null,
      "outputs": []
    },
    {
      "cell_type": "code",
      "metadata": {
        "id": "1SpjXdMIRmxS",
        "colab_type": "code",
        "colab": {}
      },
      "source": [
        "O_dft.index = O_dft['Date']"
      ],
      "execution_count": null,
      "outputs": []
    },
    {
      "cell_type": "code",
      "metadata": {
        "id": "msZXpK11RT5Y",
        "colab_type": "code",
        "colab": {}
      },
      "source": [
        ""
      ],
      "execution_count": null,
      "outputs": []
    },
    {
      "cell_type": "markdown",
      "metadata": {
        "id": "AVt9y4KUFiwx",
        "colab_type": "text"
      },
      "source": [
        "# Model Summary"
      ]
    },
    {
      "cell_type": "code",
      "metadata": {
        "ExecuteTime": {
          "end_time": "2020-08-17T09:58:37.415018Z",
          "start_time": "2020-08-17T09:58:33.764954Z"
        },
        "id": "AV6pTwpP3ZPB",
        "colab_type": "code",
        "colab": {}
      },
      "source": [
        "O_df.index = O_df['Date']\n",
        "O_df = O_df[['Occupancy']]\n",
        "updated_data = np.concatenate([train, O_df])\n",
        "updated_model = ar.fit(updated_data)\n",
        "updated_model.summary()"
      ],
      "execution_count": null,
      "outputs": []
    },
    {
      "cell_type": "markdown",
      "metadata": {
        "id": "Y7g6xg1XVJwd",
        "colab_type": "text"
      },
      "source": [
        "# 12 Validation sets testing"
      ]
    },
    {
      "cell_type": "code",
      "metadata": {
        "id": "fV6AL3yyRUTn",
        "colab_type": "code",
        "colab": {}
      },
      "source": [
        "# Initialisation model\n",
        "Train_Start = pd.to_datetime('01-01-2008',format='%d-%m-%Y')\n",
        "# replace year only\n",
        "Train_End = pd.to_datetime('31-12-2012',format='%d-%m-%Y')\n",
        "print(Train_Start)\n",
        "print(Train_End)\n",
        "\n",
        "Test_Start = Train_End + pd.to_timedelta(1, unit='D')\n",
        "Test_End= Test_Start + pd.to_timedelta(29, unit='D')\n",
        "print(Test_Start)\n",
        "print(Test_End)\n",
        "\n",
        "training_time = pd.DataFrame()\n",
        "mape = []\n",
        "mae = []\n",
        "rmse = []\n",
        "Train_S =[]\n",
        "Train_E =[]\n",
        "Test_S =[]\n",
        "Test_E =[]\n",
        "\n",
        "for i in range(1,13):\n",
        "  print('********************************')\n",
        "  print(i)\n",
        "  Train_S.append(Train_Start)\n",
        "  Train_E.append(Train_End)\n",
        "  Test_S.append(Test_Start)\n",
        "  Test_E.append(Test_End)\n",
        "\n",
        "  # Before Training\n",
        "  Test_df = df.loc[Test_Start:Test_End]\n",
        "  period = len(Test_df.index)\n",
        "\n",
        "  Train_df = df.loc[Train_Start:Train_End]\n",
        "  print(len(Train_df.index))\n",
        "\n",
        "  #arima model\n",
        "  model = ARIMA(maxiter=50, method='lbfgs', order=(5, 1, 0), out_of_sample_size=0,\n",
        "      scoring='mse', scoring_args={}, seasonal_order=(0, 0, 0, 1),\n",
        "      start_params=None, suppress_warnings=True, trend=None,\n",
        "      with_intercept=True,exogenous=holidays_train[['School_holiday','Public_holiday']])\n",
        "  #fitting model\n",
        "  model.fit(Train_df)\n",
        "  #predicting values for test\n",
        "  forecast = model.predict(n_periods=Test_df.shape[0],exogenous=holidays_train[['School_holiday','Public_holiday']])\n",
        "  mape_eachtraining = mean_absolute_percentage_error(Test_df.values,forecast)\n",
        "  rmse_eachtraining = root_mean_squared_error(forecast,Test_df.values)\n",
        "  mae_eachtraining = mean_absolute_error(Test_df.values,forecast)\n",
        "  print('Mean absolute percentage error: ',mape_eachtraining)\n",
        "  mape.append(mape_eachtraining)\n",
        "  rmse.append(rmse_eachtraining)\n",
        "  mae.append(mae_eachtraining)\n",
        "\n",
        "  # After Training\n",
        "  Train_Start = Train_Start + pd.to_timedelta(30, unit='D')\n",
        "  Train_End = Train_End + pd.to_timedelta(30, unit='D')\n",
        "  print(Train_Start)\n",
        "  print(Train_End)\n",
        "\n",
        "  Test_Start = Test_Start + pd.to_timedelta(30, unit='D')\n",
        "  Test_End= Test_End + pd.to_timedelta(30, unit='D')\n",
        "  print(Test_Start)\n",
        "  print(Test_End)\n",
        "\n",
        "training_time['Train_Start']= Train_S\n",
        "training_time['Train_End']= Train_E\n",
        "training_time['Test_Start']= Test_S\n",
        "training_time['Test_End']= Test_E\n",
        "training_time['MAPE']= mape\n",
        "training_time['RMSE']= rmse\n",
        "training_time['MAE']= mae"
      ],
      "execution_count": null,
      "outputs": []
    },
    {
      "cell_type": "code",
      "metadata": {
        "id": "17i3VLSRiAX2",
        "colab_type": "code",
        "colab": {}
      },
      "source": [
        "print('Average MAPE on 12 Validation Sets:',np.mean(training_time['MAPE']))\n",
        "training_time.to_csv('Model1.csv')"
      ],
      "execution_count": null,
      "outputs": []
    },
    {
      "cell_type": "code",
      "metadata": {
        "id": "B4qUyC1SN6pu",
        "colab_type": "code",
        "colab": {}
      },
      "source": [
        "training_time"
      ],
      "execution_count": null,
      "outputs": []
    },
    {
      "cell_type": "markdown",
      "metadata": {
        "id": "lTk8qY6vKQEx",
        "colab_type": "text"
      },
      "source": [
        "#Plots\n"
      ]
    },
    {
      "cell_type": "markdown",
      "metadata": {
        "id": "gCxBTr6qUk_m",
        "colab_type": "text"
      },
      "source": [
        "## Function to generate plots"
      ]
    },
    {
      "cell_type": "code",
      "metadata": {
        "ExecuteTime": {
          "end_time": "2020-08-17T09:58:22.907695Z",
          "start_time": "2020-08-17T09:58:22.894278Z"
        },
        "id": "HN7dY0fX3ZOX",
        "colab_type": "code",
        "colab": {}
      },
      "source": [
        "from bokeh.plotting import figure, show, output_notebook\n",
        "\n",
        "# init bokeh\n",
        "output_notebook()\n",
        "\n",
        "def plot_arima(truth, forecasts, title=\"ARIMA\", xaxis_label='Time',\n",
        "               yaxis_label='Value', c1='#123675', c2='#000000', \n",
        "               forecast_start=None, **kwargs):\n",
        "    \n",
        "    # make truth and forecasts into pandas series\n",
        "    n_truth = truth.shape[0]\n",
        "    n_forecasts = forecasts.shape[0]\n",
        "    \n",
        "    # always plot truth the same\n",
        "    truth = pd.Series(truth, index=np.arange(truth.shape[0]))\n",
        "    \n",
        "    # if no defined forecast start, start at the end\n",
        "    if forecast_start is None:\n",
        "        idx = np.arange(n_truth, n_truth + n_forecasts)\n",
        "    else:\n",
        "        idx = np.arange(forecast_start, n_forecasts)\n",
        "    forecasts = pd.Series(forecasts, index=idx)\n",
        "    \n",
        "    # set up the plot\n",
        "    p = figure(title=title, plot_height=400, **kwargs)\n",
        "    p.grid.grid_line_alpha=0.3\n",
        "    p.xaxis.axis_label = xaxis_label\n",
        "    p.yaxis.axis_label = yaxis_label\n",
        "    \n",
        "    # add the lines\n",
        "    p.line(truth.index, truth.values, color=c1, legend='Observed')\n",
        "    p.line(forecasts.index, forecasts.values, color=c2, legend='Forecasted')\n",
        "    \n",
        "    return p"
      ],
      "execution_count": null,
      "outputs": []
    },
    {
      "cell_type": "markdown",
      "metadata": {
        "id": "j1p1RbeCLRw2",
        "colab_type": "text"
      },
      "source": [
        "## Plots to compare training and model predictions on trained data"
      ]
    },
    {
      "cell_type": "code",
      "metadata": {
        "ExecuteTime": {
          "end_time": "2020-08-17T09:58:24.814857Z",
          "start_time": "2020-08-17T09:58:24.810290Z"
        },
        "id": "I-dbphRa3ZOh",
        "colab_type": "code",
        "colab": {}
      },
      "source": [
        "# #Plots of train vs predictions\n",
        "# show(plot_arima(in_sample_preds_ar,train,\n",
        "#                 title=\"Original Series & In-sample Predictions\", \n",
        "#                 c2='#FF0000', forecast_start=0))"
      ],
      "execution_count": null,
      "outputs": []
    },
    {
      "cell_type": "markdown",
      "metadata": {
        "id": "uD4f51ZrLgze",
        "colab_type": "text"
      },
      "source": [
        "## Plots to compare test data and model predictions on test data"
      ]
    },
    {
      "cell_type": "code",
      "metadata": {
        "ExecuteTime": {
          "end_time": "2020-08-17T09:58:37.495566Z",
          "start_time": "2020-08-17T09:58:37.416523Z"
        },
        "id": "N6tSr_RQ3ZPF",
        "colab_type": "code",
        "colab": {}
      },
      "source": [
        "# # visualize new forecasts\n",
        "# show(plot_arima(updated_data, updated_model.predict(n_periods=30)))"
      ],
      "execution_count": null,
      "outputs": []
    }
  ]
}