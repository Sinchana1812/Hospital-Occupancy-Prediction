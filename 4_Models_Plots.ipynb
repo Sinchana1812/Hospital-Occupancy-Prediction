{
  "nbformat": 4,
  "nbformat_minor": 0,
  "metadata": {
    "colab": {
      "name": "4 Models Plots.ipynb",
      "provenance": [],
      "collapsed_sections": [
        "s7ASn8Mv-v1o",
        "3YNK4ijoIeZL",
        "EzYjr8SKGt2E",
        "KHECJ4zQLH3K",
        "UUrs1Y8ALalT",
        "MhD2BAEYLhWw",
        "ULXTvl8qLhpK",
        "YiKAR2OaLh4N",
        "SXsw1rrrJnr2",
        "PyzXI0nUnzLD",
        "HoG4J8txkTKR"
      ],
      "toc_visible": true
    },
    "kernelspec": {
      "name": "python3",
      "display_name": "Python 3"
    }
  },
  "cells": [
    {
      "cell_type": "markdown",
      "metadata": {
        "id": "s7ASn8Mv-v1o",
        "colab_type": "text"
      },
      "source": [
        "# Import necessary libraries"
      ]
    },
    {
      "cell_type": "code",
      "metadata": {
        "ExecuteTime": {
          "end_time": "2020-08-17T09:56:57.113583Z",
          "start_time": "2020-08-17T09:56:57.110953Z"
        },
        "id": "WZm_4a-Y3ZNm",
        "colab_type": "code",
        "colab": {}
      },
      "source": [
        "#importing important libraries\n",
        "import pandas as pd\n",
        "import numpy as np\n",
        "from matplotlib import pyplot as plt \n",
        "import seaborn as sns"
      ],
      "execution_count": null,
      "outputs": []
    },
    {
      "cell_type": "markdown",
      "metadata": {
        "id": "3YNK4ijoIeZL",
        "colab_type": "text"
      },
      "source": [
        "# Read the data\n",
        "\n",
        "Read the input hospital data and then set the index to the 'Date' column.\n",
        "\n",
        "Aggregate the 3 German States Holiday columns for both School and Public Holidays into one single column respectively\n",
        "\n",
        "Train Test Split for Model Preparation"
      ]
    },
    {
      "cell_type": "code",
      "metadata": {
        "ExecuteTime": {
          "end_time": "2020-08-17T09:56:57.144138Z",
          "start_time": "2020-08-17T09:56:57.115368Z"
        },
        "id": "5L279eCl3ZNu",
        "colab_type": "code",
        "colab": {}
      },
      "source": [
        "#loading and conveting time series data by setting index as date\n",
        "df = pd.read_csv('ProcessedDataset.csv')\n",
        "df['Date'] = pd.to_datetime(df['Date'], format='%d-%m-%Y')\n",
        "df.index = df.Date\n",
        "#School holidays Aggregation\n",
        "holidays_S = pd.DataFrame({'School_holiday': df[[\"S_BW\", \"S_H\",\"S_RP\"]].max(axis=1)})\n",
        "holidays_S = holidays_S[[\"School_holiday\"]]\n",
        "holidays_P = pd.DataFrame({'Public_holiday': df[[\"P_BW\", \"P_H\",\"P_RP\"]].max(axis=1)})\n",
        "holidays = holidays_P[[\"Public_holiday\"]]\n",
        "holidays['School_holiday'] = holidays_S.School_holiday\n",
        "\n",
        "#Consider only the Occupancy\n",
        "df = df.drop('Date', axis=1)\n",
        "df = df[['Occupancy']]"
      ],
      "execution_count": null,
      "outputs": []
    },
    {
      "cell_type": "markdown",
      "metadata": {
        "id": "5NBFv3gjI-u0",
        "colab_type": "text"
      },
      "source": [
        "Train Test Split"
      ]
    },
    {
      "cell_type": "code",
      "metadata": {
        "ExecuteTime": {
          "end_time": "2020-08-17T09:56:57.293437Z",
          "start_time": "2020-08-17T09:56:57.286697Z"
        },
        "id": "JxvrZvbG3ZN_",
        "colab_type": "code",
        "colab": {}
      },
      "source": [
        "#divide into train and test set\n",
        "train = df['20080101':'20121231']\n",
        "test =  df['20130101':'20130130']\n",
        "test1 = df['20130101':'20130130']\n",
        "test2 = df['20130130':'20131231']\n",
        "#Holidays\n",
        "holidays_train = holidays['20080101':'20121231']\n",
        "holidays_test = holidays['20130101':'20130130']"
      ],
      "execution_count": null,
      "outputs": []
    },
    {
      "cell_type": "code",
      "metadata": {
        "id": "51icYXI3qD6i",
        "colab_type": "code",
        "colab": {}
      },
      "source": [
        "#visualizing timeseries data\n",
        "fig, ax = plt.subplots(figsize=(12,5))\n",
        "train.plot(ax=ax,color='g',legend=None)\n",
        "test1.plot(ax=ax,color='b',legend=None)\n",
        "test2.plot(ax=ax,color='r',legend=None)\n",
        "plt.axvline(x='2013-01-01',linewidth=1.1, color='black',linestyle='--')\n",
        "plt.axvline(x='2013-01-30',linewidth=1.1, color='black',linestyle='--')\n",
        "plt.axvspan('2013-01-30','2013-12-31', facecolor='r', alpha=0.3)\n",
        "plt.axvspan('2013-01-01','2013-01-30', facecolor='b', alpha=0.3)\n",
        "plt.axvspan('2008-01-01','2012-12-31', facecolor='g', alpha=0.3)\n",
        "plt.title('Train and Evaluation Split')\n",
        "plt.xlabel('')\n",
        "plt.ylabel('Occupancy')\n",
        "plt.savefig('train_test_split.png')"
      ],
      "execution_count": null,
      "outputs": []
    },
    {
      "cell_type": "markdown",
      "metadata": {
        "id": "EzYjr8SKGt2E",
        "colab_type": "text"
      },
      "source": [
        "## Yearly Seasonality"
      ]
    },
    {
      "cell_type": "code",
      "metadata": {
        "id": "-n-l-F2iGsgz",
        "colab_type": "code",
        "colab": {}
      },
      "source": [
        "# A = Train_df_A.plot(x='ds',y='y',label='Admissions',legend=True)\n",
        "# D= Train_df_D.plot(x='ds',y='y',label='Discharges',legend=True,ax=A)\n",
        "# Train_df_O.plot(x='ds',y='y',label='Occupancy',legend=True,ax=D,figsize=(16,6))\n",
        "# plt.xlabel('')\n",
        "# plt.savefig('Yearly_seasonality.png')"
      ],
      "execution_count": null,
      "outputs": []
    },
    {
      "cell_type": "markdown",
      "metadata": {
        "id": "KHECJ4zQLH3K",
        "colab_type": "text"
      },
      "source": [
        "# Individual Plots"
      ]
    },
    {
      "cell_type": "markdown",
      "metadata": {
        "id": "UUrs1Y8ALalT",
        "colab_type": "text"
      },
      "source": [
        "#### ARIMA Occupancy"
      ]
    },
    {
      "cell_type": "code",
      "metadata": {
        "id": "dssRJ_F6LMZ-",
        "colab_type": "code",
        "colab": {}
      },
      "source": [
        "#Load the output\n",
        "ar_o_pred = np.array([114.52319146, 116.79080668, 115.9826378 , 113.40991486,\n",
        "       112.95176448, 113.268716  , 113.43769586, 113.91884535,\n",
        "       114.21797002, 114.05411974, 113.86233834, 113.77674961,\n",
        "       113.72470498, 113.74753996, 113.81206347, 113.83688908,\n",
        "       113.82687624, 113.80854327, 113.78670402, 113.77178524,\n",
        "       113.76919137, 113.77027805, 113.76894436, 113.76494484,\n",
        "       113.75841658, 113.75074066, 113.7439766 , 113.73845609,\n",
        "       113.73350018, 113.72862268])\n",
        "ar_o_pred = pd.DataFrame(ar_o_pred)\n",
        "ar_o_pred.index=test.index\n",
        "\n",
        "#visualizing timeseries data\n",
        "fig, ax = plt.subplots(figsize=(8,4))\n",
        "ar_o_pred.plot(ax=ax)\n",
        "test.plot(ax=ax)\n",
        "plt.xlabel('Date')\n",
        "plt.ylabel('Occupancy')\n",
        "ax.legend([\"Predictions\", \"Test\"])\n",
        "plt.title('ARIMAX Occupancy Test vs Predictions Plot')\n",
        "# plt.savefig('Model1_ARIMA_O.png')"
      ],
      "execution_count": null,
      "outputs": []
    },
    {
      "cell_type": "markdown",
      "metadata": {
        "colab_type": "text",
        "id": "MhD2BAEYLhWw"
      },
      "source": [
        "#### ARIMA (Admisisons + Discharges)"
      ]
    },
    {
      "cell_type": "code",
      "metadata": {
        "colab_type": "code",
        "id": "8JCCkgFVLhpM",
        "colab": {}
      },
      "source": [
        "#Load the output\n",
        "ar_ad_pred = pd.read_csv('O_df_ARIMA.csv',usecols=['Occupancy'])\n",
        "ar_ad_pred.index=test.index\n",
        "\n",
        "#visualizing timeseries data\n",
        "fig, ax = plt.subplots(figsize=(8,4))\n",
        "ar_ad_pred.plot(ax=ax)\n",
        "test.plot(ax=ax)\n",
        "plt.xlabel('Date')\n",
        "plt.ylabel('Occupancy')\n",
        "ax.legend([\"Predictions\", \"Test\"]);\n",
        "plt.title('ARIMAX Aggregated Model Test vs Predictions Plot')"
      ],
      "execution_count": null,
      "outputs": []
    },
    {
      "cell_type": "markdown",
      "metadata": {
        "colab_type": "text",
        "id": "ULXTvl8qLhpK"
      },
      "source": [
        "#### Fb Prophet Occupancy"
      ]
    },
    {
      "cell_type": "code",
      "metadata": {
        "colab_type": "code",
        "id": "iikve065Lh4R",
        "colab": {}
      },
      "source": [
        "#Load the output\n",
        "fb_o_pred = pd.read_csv('forecast_fbprophet.csv',usecols=['yhat'])\n",
        "fb_o_pred.index=test.index\n",
        "\n",
        "#visualizing timeseries data\n",
        "fig, ax = plt.subplots(figsize=(8,4))\n",
        "fb_o_pred.plot(ax=ax)\n",
        "test.plot(ax=ax)\n",
        "plt.xlabel('Date')\n",
        "plt.ylabel('Occupancy')\n",
        "ax.legend([\"Predictions\", \"Test\"]);\n",
        "plt.title('Prophet Occupancy Test vs Predictions Plot')\n",
        "plt.savefig('Model2_Prophet_O.png')"
      ],
      "execution_count": null,
      "outputs": []
    },
    {
      "cell_type": "markdown",
      "metadata": {
        "colab_type": "text",
        "id": "YiKAR2OaLh4N"
      },
      "source": [
        "#### FbProphet (Admisisons + Discharges)"
      ]
    },
    {
      "cell_type": "code",
      "metadata": {
        "colab_type": "code",
        "id": "axWFj9TCLhW0",
        "colab": {}
      },
      "source": [
        "#Load the output\n",
        "fb_ad_pred = pd.read_csv('forecast_ad_fbprophet.csv',usecols=['Occupancy'])\n",
        "fb_ad_pred.index=test.index\n",
        "\n",
        "#visualizing timeseries data\n",
        "fig, ax = plt.subplots(figsize=(8,4))\n",
        "fb_ad_pred.plot(ax=ax)\n",
        "test.plot(ax=ax)\n",
        "plt.xlabel('Date')\n",
        "plt.ylabel('Occupancy')\n",
        "ax.legend([\"Predictions\", \"Test\"])\n",
        "plt.title('Prophet Aggregated Model Test vs Predictions Plot')"
      ],
      "execution_count": null,
      "outputs": []
    },
    {
      "cell_type": "markdown",
      "metadata": {
        "id": "SXsw1rrrJnr2",
        "colab_type": "text"
      },
      "source": [
        "# Comparison Plots"
      ]
    },
    {
      "cell_type": "markdown",
      "metadata": {
        "id": "6hwVYIQ9IaBs",
        "colab_type": "text"
      },
      "source": [
        "Comparison plot between ARIMA Occupancy vs ARIMA (Admisisons + Discharges) Models"
      ]
    },
    {
      "cell_type": "code",
      "metadata": {
        "id": "1YilPE-dnoEn",
        "colab_type": "code",
        "colab": {}
      },
      "source": [
        "#visualizing timeseries data\n",
        "fig, ax = plt.subplots(figsize=(8,4))\n",
        "ar_o_pred.plot(ax=ax)\n",
        "ar_ad_pred.plot(ax=ax,color='orange')\n",
        "test.plot(ax=ax,color='r',linewidth=4)\n",
        "plt.xlabel('Date')\n",
        "plt.ylabel('Occupancy')\n",
        "ax.legend([\"ARIMA Predictions\",\"ARIMA A+D Predictions\",\"Actual\"]);"
      ],
      "execution_count": null,
      "outputs": []
    },
    {
      "cell_type": "markdown",
      "metadata": {
        "id": "Y_GL-D4FInrD",
        "colab_type": "text"
      },
      "source": [
        "Comparison plot between FBProphet Occupancy vs FBProphet (Admisisons + Discharges) Models"
      ]
    },
    {
      "cell_type": "code",
      "metadata": {
        "id": "_UGMojQCIvaB",
        "colab_type": "code",
        "colab": {}
      },
      "source": [
        "#visualizing timeseries data\n",
        "fig, ax = plt.subplots(figsize=(8,4))\n",
        "fb_o_pred.plot(ax=ax)\n",
        "fb_ad_pred.plot(ax=ax,color='orange')\n",
        "test.plot(ax=ax,color='r',linewidth=4)\n",
        "plt.xlabel('Date')\n",
        "plt.ylabel('Occupancy')\n",
        "ax.legend([\"FB Predictions\",\"FB A+D Predictions\",\"Actual\"]);"
      ],
      "execution_count": null,
      "outputs": []
    },
    {
      "cell_type": "markdown",
      "metadata": {
        "id": "qn9JhSgjIyHs",
        "colab_type": "text"
      },
      "source": [
        "Comparison plot between FBProphet Occupancy vs ARIMA Occupancy Models"
      ]
    },
    {
      "cell_type": "code",
      "metadata": {
        "id": "OUPqTuZRI3zW",
        "colab_type": "code",
        "colab": {}
      },
      "source": [
        "#visualizing timeseries data\n",
        "fig, ax = plt.subplots(figsize=(8,4))\n",
        "fb_o_pred.plot(ax=ax)\n",
        "ar_o_pred.plot(ax=ax,color='orange')\n",
        "test.plot(ax=ax,color='r',linewidth=4)\n",
        "plt.xlabel('Date')\n",
        "plt.ylabel('Occupancy')\n",
        "ax.legend([\"FB Predictions\",\"ARIMA Predictions\",\"Actual\"]);"
      ],
      "execution_count": null,
      "outputs": []
    },
    {
      "cell_type": "markdown",
      "metadata": {
        "id": "VYYUZevjI4N8",
        "colab_type": "text"
      },
      "source": [
        "Comparison plot between FBProphet (Admisisons + Discharges) vs ARIMA (Admisisons + Discharges) Models"
      ]
    },
    {
      "cell_type": "code",
      "metadata": {
        "id": "Flm4tbyHJBbA",
        "colab_type": "code",
        "colab": {}
      },
      "source": [
        "#visualizing timeseries data\n",
        "fig, ax = plt.subplots(figsize=(8,4))\n",
        "fb_ad_pred.plot(ax=ax)\n",
        "ar_ad_pred.plot(ax=ax,color='orange')\n",
        "test.plot(ax=ax,color='r',linewidth=4)\n",
        "plt.xlabel('Date')\n",
        "plt.ylabel('Occupancy')\n",
        "ax.legend([\"FB A+D Predictions\",\"ARIMA A+D Predictions\",\"Actual\"]);"
      ],
      "execution_count": null,
      "outputs": []
    },
    {
      "cell_type": "markdown",
      "metadata": {
        "id": "gBLLYEYLJCBI",
        "colab_type": "text"
      },
      "source": [
        "All the 4 combined models plots "
      ]
    },
    {
      "cell_type": "code",
      "metadata": {
        "id": "0gDUceO9JJz6",
        "colab_type": "code",
        "colab": {}
      },
      "source": [
        "#visualizing timeseries data\n",
        "fig, ax = plt.subplots(figsize=(10,6))\n",
        "fb_o_pred.plot(ax=ax)\n",
        "ar_o_pred.plot(ax=ax,color='orange')\n",
        "ar_ad_pred.plot(ax=ax,color='green')\n",
        "test.plot(ax=ax,color='r',linewidth=4)\n",
        "fb_ad_pred.plot(ax=ax,color='blue',linewidth=4)\n",
        "plt.xlabel('Date')\n",
        "plt.ylabel('Occupancy')\n",
        "ax.legend([\"FB Predictions\",\"ARIMA Predictions\",\"ARIMA A+D Predictions\",\"Actual\",\"FB A+D Predictions\"]);"
      ],
      "execution_count": null,
      "outputs": []
    },
    {
      "cell_type": "markdown",
      "metadata": {
        "id": "PyzXI0nUnzLD",
        "colab_type": "text"
      },
      "source": [
        "# MAPE Bar Plot for 4 models "
      ]
    },
    {
      "cell_type": "code",
      "metadata": {
        "id": "RgGi85rxqJkK",
        "colab_type": "code",
        "colab": {}
      },
      "source": [
        "MAPE = pd.DataFrame(columns=['Model','Mape_Test','Mape_Train'])\n",
        "MAPE['Model'] = ['ARIMAX Occupancy','Prophet Occupancy','ARIMAX Aggregated Model','Prophet Aggregated Model']\n",
        "MAPE['Mape_Test'] = [10.61,22.18,16.45,5.32]\n",
        "MAPE['Mape_Train'] = [25.77,10.54,53.19,15.64]\n",
        "#visualizing timeseries data\n",
        "plt.figure(figsize=(10,5))\n",
        "bar = sns.barplot(x=\"Model\", y=\"Mape_Test\", data=MAPE,palette='Set1')\n",
        "# for index, row in MAPE.iterrows():\n",
        "#   bar.text( row.Model, row.Mape_Test, row.Mape_Test, color='black', ha=\"center\")\n",
        "bar.set_xticklabels(bar.get_xticklabels())\n",
        "plt.ylabel('MAPE')\n",
        "plt.title('MAPE values comparison of 4 models')"
      ],
      "execution_count": null,
      "outputs": []
    },
    {
      "cell_type": "markdown",
      "metadata": {
        "id": "HoG4J8txkTKR",
        "colab_type": "text"
      },
      "source": [
        "# Holidays Effect Check on 2005 data"
      ]
    },
    {
      "cell_type": "code",
      "metadata": {
        "id": "T4GYkHWZ16lF",
        "colab_type": "code",
        "colab": {}
      },
      "source": [
        "data = pd.read_csv(\"2005data.csv\")\n",
        "ax= data.plot(x='Month',y='Occupancy')\n",
        "plt.title('Occupancy plot for 2005')\n",
        "data.plot(x='Month',y='Admissions')\n",
        "plt.title('Admissions plot for 2005')\n",
        "data.plot(x='Month',y='Discharges')\n",
        "plt.title('Discharges plot for 2005')"
      ],
      "execution_count": null,
      "outputs": []
    }
  ]
}