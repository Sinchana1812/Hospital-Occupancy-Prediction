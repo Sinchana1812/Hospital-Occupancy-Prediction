{
  "nbformat": 4,
  "nbformat_minor": 0,
  "metadata": {
    "kernelspec": {
      "display_name": "Python 3",
      "language": "python",
      "name": "python3"
    },
    "language_info": {
      "codemirror_mode": {
        "name": "ipython",
        "version": 3
      },
      "file_extension": ".py",
      "mimetype": "text/x-python",
      "name": "python",
      "nbconvert_exporter": "python",
      "pygments_lexer": "ipython3",
      "version": "3.7.7"
    },
    "colab": {
      "name": "Admissions+Discharges_holidays_ARIMA.ipynb",
      "provenance": [],
      "collapsed_sections": [
        "s7ASn8Mv-v1o",
        "7GjX-cYW5N05",
        "3YNK4ijoIeZL",
        "5NBFv3gjI-u0",
        "vEeb5MJWWUUM",
        "CyvV-A7UrOq5",
        "3qahsidtWQtc",
        "y9Riu9eAchyM",
        "uPSBSQzJWy0S",
        "iv9HgFJEudIt",
        "mI_HHl6hudIv",
        "JoaKdWFVudJE",
        "gWFSX0PLe4NP",
        "EceRluk2udJN",
        "KVhGrvLAOxnJ",
        "_V4SkOdrKJQw",
        "IYQbzpyNJ_6Z",
        "aFSbKey_cRrU",
        "dc69SLMLJxW-",
        "Y7g6xg1XVJwd"
      ],
      "toc_visible": true
    }
  },
  "cells": [
    {
      "cell_type": "markdown",
      "metadata": {
        "id": "s7ASn8Mv-v1o",
        "colab_type": "text"
      },
      "source": [
        "# Import necessary libraries"
      ]
    },
    {
      "cell_type": "code",
      "metadata": {
        "ExecuteTime": {
          "end_time": "2020-08-17T09:56:57.113583Z",
          "start_time": "2020-08-17T09:56:57.110953Z"
        },
        "id": "WZm_4a-Y3ZNm",
        "colab_type": "code",
        "colab": {
          "base_uri": "https://localhost:8080/"
        },
        "outputId": "9b44f016-ac4f-4484-8df1-cca2da6f4c20"
      },
      "source": [
        "#importing important libraries\n",
        "!pip install pmdarima\n",
        "import pandas as pd\n",
        "import numpy as np\n",
        "from pmdarima.arima import auto_arima\n",
        "from pmdarima.arima import ARIMA"
      ],
      "execution_count": null,
      "outputs": [
        {
          "output_type": "stream",
          "text": [
            "Collecting pmdarima\n",
            "\u001b[?25l  Downloading https://files.pythonhosted.org/packages/6d/e9/6587edeffba78fbed826c45d2e85edfba1fcb18f3d7d5347b20cdbdc7327/pmdarima-1.7.0-cp36-cp36m-manylinux1_x86_64.whl (1.5MB)\n",
            "\u001b[K     |████████████████████████████████| 1.5MB 2.7MB/s \n",
            "\u001b[?25hRequirement already satisfied: scikit-learn>=0.22 in /usr/local/lib/python3.6/dist-packages (from pmdarima) (0.22.2.post1)\n",
            "Requirement already satisfied: scipy>=1.3.2 in /usr/local/lib/python3.6/dist-packages (from pmdarima) (1.4.1)\n",
            "Requirement already satisfied: joblib>=0.11 in /usr/local/lib/python3.6/dist-packages (from pmdarima) (0.16.0)\n",
            "Collecting Cython<0.29.18,>=0.29\n",
            "\u001b[?25l  Downloading https://files.pythonhosted.org/packages/e7/d7/510ddef0248f3e1e91f9cc7e31c0f35f8954d0af92c5c3fd4c853e859ebe/Cython-0.29.17-cp36-cp36m-manylinux1_x86_64.whl (2.1MB)\n",
            "\u001b[K     |████████████████████████████████| 2.1MB 17.9MB/s \n",
            "\u001b[?25hRequirement already satisfied: numpy>=1.17.3 in /usr/local/lib/python3.6/dist-packages (from pmdarima) (1.18.5)\n",
            "Requirement already satisfied: pandas>=0.19 in /usr/local/lib/python3.6/dist-packages (from pmdarima) (1.0.5)\n",
            "Collecting statsmodels>=0.11\n",
            "\u001b[?25l  Downloading https://files.pythonhosted.org/packages/00/93/1b6882f92d94e491a3e3be101fc83934551eada261281980f3957246432f/statsmodels-0.12.0-cp36-cp36m-manylinux1_x86_64.whl (9.5MB)\n",
            "\u001b[K     |████████████████████████████████| 9.5MB 34.9MB/s \n",
            "\u001b[?25hRequirement already satisfied: urllib3 in /usr/local/lib/python3.6/dist-packages (from pmdarima) (1.24.3)\n",
            "Requirement already satisfied: pytz>=2017.2 in /usr/local/lib/python3.6/dist-packages (from pandas>=0.19->pmdarima) (2018.9)\n",
            "Requirement already satisfied: python-dateutil>=2.6.1 in /usr/local/lib/python3.6/dist-packages (from pandas>=0.19->pmdarima) (2.8.1)\n",
            "Requirement already satisfied: patsy>=0.5 in /usr/local/lib/python3.6/dist-packages (from statsmodels>=0.11->pmdarima) (0.5.1)\n",
            "Requirement already satisfied: six>=1.5 in /usr/local/lib/python3.6/dist-packages (from python-dateutil>=2.6.1->pandas>=0.19->pmdarima) (1.15.0)\n",
            "Installing collected packages: Cython, statsmodels, pmdarima\n",
            "  Found existing installation: Cython 0.29.21\n",
            "    Uninstalling Cython-0.29.21:\n",
            "      Successfully uninstalled Cython-0.29.21\n",
            "  Found existing installation: statsmodels 0.10.2\n",
            "    Uninstalling statsmodels-0.10.2:\n",
            "      Successfully uninstalled statsmodels-0.10.2\n",
            "Successfully installed Cython-0.29.17 pmdarima-1.7.0 statsmodels-0.12.0\n"
          ],
          "name": "stdout"
        }
      ]
    },
    {
      "cell_type": "markdown",
      "metadata": {
        "id": "7GjX-cYW5N05",
        "colab_type": "text"
      },
      "source": [
        "# Necessary Functions"
      ]
    },
    {
      "cell_type": "code",
      "metadata": {
        "id": "zDdZfQv95JhI",
        "colab_type": "code",
        "colab": {}
      },
      "source": [
        "# Mean Absolute Percentage Error\n",
        "def mean_absolute_percentage_error(y_true, y_pred): \n",
        "  return np.round(np.mean(np.abs((y_pred - y_true) /np.abs(y_true))) * 100,decimals=2)\n",
        "# Mean Absolute Error\n",
        "def mean_absolute_error(y_true, y_pred): \n",
        "  return np.round(np.mean(np.abs((y_pred - y_true))),decimals=2)\n",
        "# Mean Sqaured Error\n",
        "def mean_squared_error( y_pred,y_true): \n",
        "  return np.round(np.mean((y_pred - y_true)**2),decimals=2)\n",
        "# Root Mean Sqaured Error\n",
        "def root_mean_squared_error(y_pred,y_true): \n",
        "  return np.round(np.sqrt(mean_squared_error(y_pred, y_true)),decimals=2)"
      ],
      "execution_count": null,
      "outputs": []
    },
    {
      "cell_type": "markdown",
      "metadata": {
        "id": "3YNK4ijoIeZL",
        "colab_type": "text"
      },
      "source": [
        "# Read the data\n",
        "\n",
        "\n",
        "\n",
        "1.   Read the input hospital data and then set the index to the 'Date' \n",
        "column.\n",
        "2.   Aggregate the 3 German States Holiday columns for both School and Public Holidays\n",
        "3. Create  seperate dataframes having Occupancy,Admissions and Discharges data to train the model\n",
        "\n",
        "\n"
      ]
    },
    {
      "cell_type": "code",
      "metadata": {
        "ExecuteTime": {
          "end_time": "2020-08-17T09:56:57.144138Z",
          "start_time": "2020-08-17T09:56:57.115368Z"
        },
        "id": "5L279eCl3ZNu",
        "colab_type": "code",
        "colab": {}
      },
      "source": [
        "#loading and conveting time series data by setting index as date\n",
        "df = pd.read_csv('ProcessedDataset.csv')\n",
        "df['Date'] = pd.to_datetime(df['Date'], format='%d-%m-%Y')\n",
        "df.index = df.Date\n",
        "#School holidays Aggregation\n",
        "holidays_S = pd.DataFrame({'School_holiday': df[[\"S_BW\", \"S_H\",\"S_RP\"]].max(axis=1)})\n",
        "holidays_S = holidays_S[[\"School_holiday\"]]\n",
        "holidays_P = pd.DataFrame({'Public_holiday': df[[\"P_BW\", \"P_H\",\"P_RP\"]].max(axis=1)})\n",
        "holidays = holidays_P[[\"Public_holiday\"]]\n",
        "holidays['School_holiday'] = holidays_S.School_holiday\n",
        "\n",
        "#Consider only the Occupancy\n",
        "df = df.drop('Date', axis=1)\n",
        "df_O = df[['Occupancy']]\n",
        "df_D = df[['Discharges']]\n",
        "df_A = df[['Admissions']]"
      ],
      "execution_count": null,
      "outputs": []
    },
    {
      "cell_type": "markdown",
      "metadata": {
        "id": "5NBFv3gjI-u0",
        "colab_type": "text"
      },
      "source": [
        "# Train Test Split"
      ]
    },
    {
      "cell_type": "code",
      "metadata": {
        "ExecuteTime": {
          "end_time": "2020-08-17T09:56:57.293437Z",
          "start_time": "2020-08-17T09:56:57.286697Z"
        },
        "id": "JxvrZvbG3ZN_",
        "colab_type": "code",
        "colab": {}
      },
      "source": [
        "#divide into train and validation set\n",
        "train_O = df_O['20080101':'20121231']\n",
        "test_O = df_O['20130101':'20130130']\n",
        "#Discharges\n",
        "train_D = df_D['20080101':'20121231']\n",
        "test_D = df_D['20130101':'20130130']\n",
        "#Admissions \n",
        "train_A = df_A['20080101':'20121231']\n",
        "test_A = df_A['20130101':'20130130']\n",
        "#Holidays\n",
        "holidays_train = holidays['20080101':'20121231']\n",
        "holidays_test = holidays['20130101':'20130130']"
      ],
      "execution_count": null,
      "outputs": []
    },
    {
      "cell_type": "markdown",
      "metadata": {
        "id": "RmxTzCjltNE8",
        "colab_type": "text"
      },
      "source": [
        "# Discharges Model"
      ]
    },
    {
      "cell_type": "markdown",
      "metadata": {
        "id": "vEeb5MJWWUUM",
        "colab_type": "text"
      },
      "source": [
        "## AUTO ARIMA Implementation\n",
        "Running Auto Arima Model to find the p, d and q parameters values and predicting on the test data\n",
        "Exogenous variables - School and Public Holidays of 3 German states\n",
        "\n",
        "Best Model considered with Least AIC"
      ]
    },
    {
      "cell_type": "code",
      "metadata": {
        "ExecuteTime": {
          "end_time": "2020-08-17T09:57:42.027944Z",
          "start_time": "2020-08-17T09:56:57.294632Z"
        },
        "id": "dqzsLdX33ZOE",
        "colab_type": "code",
        "colab": {}
      },
      "source": [
        "#training model\n",
        "model_D = auto_arima(train_D, trace=True,start_p=0, start_q=0, start_P=0, start_Q=0,\n",
        "                  max_p=10, max_q=10, max_P=10, max_Q=10, seasonal=True,\n",
        "                  stepwise=True, suppress_warnings=True, D=1, max_D=10,\n",
        "                  error_action='ignore',approximation = False,exogenous=holidays_train[['School_holiday','Public_holiday']])\n",
        "#fitting model\n",
        "model_D.fit(train_D)\n",
        "#predicting values for test \n",
        "y_pred_D = model_D.predict(n_periods=test_D.shape[0],exogenous=holidays_test[['School_holiday','Public_holiday']])"
      ],
      "execution_count": null,
      "outputs": []
    },
    {
      "cell_type": "code",
      "metadata": {
        "id": "eoqTXqebpMug",
        "colab_type": "code",
        "colab": {}
      },
      "source": [
        "model_D"
      ],
      "execution_count": null,
      "outputs": []
    },
    {
      "cell_type": "code",
      "metadata": {
        "id": "nzclnTg5XPb0",
        "colab_type": "code",
        "colab": {}
      },
      "source": [
        "predict for train\n",
        "in_sample_preds_D = model_D.predict_in_sample()"
      ],
      "execution_count": null,
      "outputs": []
    },
    {
      "cell_type": "markdown",
      "metadata": {
        "id": "CyvV-A7UrOq5",
        "colab_type": "text"
      },
      "source": [
        "#### Error Metrics\n",
        "Calculation of MAPE, MAE and RMSE - Test"
      ]
    },
    {
      "cell_type": "code",
      "metadata": {
        "ExecuteTime": {
          "end_time": "2020-08-17T09:57:42.046193Z",
          "start_time": "2020-08-17T09:57:42.034969Z"
        },
        "id": "aAQ8R7Q43ZOR",
        "colab_type": "code",
        "colab": {
          "base_uri": "https://localhost:8080/"
        },
        "outputId": "613ba16d-dbc9-4dee-8185-7e44eac8ef01"
      },
      "source": [
        "#evaluating model\n",
        "print('Mean absolute percentage error: ',mean_absolute_percentage_error(test_D.values, y_pred_D))\n",
        "print('Mean absolute error: ',mean_absolute_error(test_D.values, y_pred_D))\n",
        "print('Root Mean Square error: ',root_mean_squared_error(y_pred_D,test_D.values))"
      ],
      "execution_count": null,
      "outputs": [
        {
          "output_type": "error",
          "ename": "NameError",
          "evalue": "ignored",
          "traceback": [
            "\u001b[0;31m---------------------------------------------------------------------------\u001b[0m",
            "\u001b[0;31mNameError\u001b[0m                                 Traceback (most recent call last)",
            "\u001b[0;32m<ipython-input-8-71899bb60edb>\u001b[0m in \u001b[0;36m<module>\u001b[0;34m()\u001b[0m\n\u001b[1;32m      1\u001b[0m \u001b[0;31m#evaluating model\u001b[0m\u001b[0;34m\u001b[0m\u001b[0;34m\u001b[0m\u001b[0;34m\u001b[0m\u001b[0m\n\u001b[0;32m----> 2\u001b[0;31m \u001b[0mprint\u001b[0m\u001b[0;34m(\u001b[0m\u001b[0;34m'Mean absolute percentage error: '\u001b[0m\u001b[0;34m,\u001b[0m\u001b[0mmean_absolute_percentage_error\u001b[0m\u001b[0;34m(\u001b[0m\u001b[0mtest_D\u001b[0m\u001b[0;34m.\u001b[0m\u001b[0mvalues\u001b[0m\u001b[0;34m,\u001b[0m \u001b[0my_pred_D\u001b[0m\u001b[0;34m)\u001b[0m\u001b[0;34m)\u001b[0m\u001b[0;34m\u001b[0m\u001b[0;34m\u001b[0m\u001b[0m\n\u001b[0m\u001b[1;32m      3\u001b[0m \u001b[0mprint\u001b[0m\u001b[0;34m(\u001b[0m\u001b[0;34m'Mean absolute error: '\u001b[0m\u001b[0;34m,\u001b[0m\u001b[0mmean_absolute_error\u001b[0m\u001b[0;34m(\u001b[0m\u001b[0mtest_D\u001b[0m\u001b[0;34m.\u001b[0m\u001b[0mvalues\u001b[0m\u001b[0;34m,\u001b[0m \u001b[0my_pred_D\u001b[0m\u001b[0;34m)\u001b[0m\u001b[0;34m)\u001b[0m\u001b[0;34m\u001b[0m\u001b[0;34m\u001b[0m\u001b[0m\n\u001b[1;32m      4\u001b[0m \u001b[0mprint\u001b[0m\u001b[0;34m(\u001b[0m\u001b[0;34m'Root Mean Square error: '\u001b[0m\u001b[0;34m,\u001b[0m\u001b[0mroot_mean_squared_error\u001b[0m\u001b[0;34m(\u001b[0m\u001b[0my_pred_D\u001b[0m\u001b[0;34m,\u001b[0m\u001b[0mtest_D\u001b[0m\u001b[0;34m.\u001b[0m\u001b[0mvalues\u001b[0m\u001b[0;34m)\u001b[0m\u001b[0;34m)\u001b[0m\u001b[0;34m\u001b[0m\u001b[0;34m\u001b[0m\u001b[0m\n",
            "\u001b[0;31mNameError\u001b[0m: name 'y_pred_D' is not defined"
          ]
        }
      ]
    },
    {
      "cell_type": "markdown",
      "metadata": {
        "id": "s05CEcDwTx26",
        "colab_type": "text"
      },
      "source": [
        "Calculation of MAPE, MAE and RMSE - Train"
      ]
    },
    {
      "cell_type": "code",
      "metadata": {
        "id": "eDPh9BthTaoU",
        "colab_type": "code",
        "colab": {}
      },
      "source": [
        "print('Mean absolute percentage error: ',mean_absolute_percentage_error(train_D.values, in_sample_preds_D))\n",
        "print('Mean absolute error: ',mean_absolute_error(train_D.values, in_sample_preds_D))\n",
        "print('Root Mean Square error: ',root_mean_squared_error(in_sample_preds_D,train_D.values))"
      ],
      "execution_count": null,
      "outputs": []
    },
    {
      "cell_type": "markdown",
      "metadata": {
        "id": "3qahsidtWQtc",
        "colab_type": "text"
      },
      "source": [
        "## ARIMA \n",
        "Run the model on the Identified ARIMA model with least AIC"
      ]
    },
    {
      "cell_type": "markdown",
      "metadata": {
        "id": "y9Riu9eAchyM",
        "colab_type": "text"
      },
      "source": [
        "### Implementation"
      ]
    },
    {
      "cell_type": "code",
      "metadata": {
        "id": "x0s8hqNWWFGG",
        "colab_type": "code",
        "colab": {}
      },
      "source": [
        "ar_D = ARIMA(maxiter=50, method='lbfgs', order=(4, 1, 1), out_of_sample_size=0,\n",
        "      scoring='mse', scoring_args={}, seasonal_order=(0, 0, 0, 1),\n",
        "      start_params=None, suppress_warnings=True, trend=None,\n",
        "      with_intercept=True,exogenous=holidays_train[['School_holiday','Public_holiday']])\n",
        "#fitting model\n",
        "ar_D.fit(train_D)\n",
        "#predicting values for test\n",
        "y_pred_ar_D = ar_D.predict(n_periods=test_D.shape[0],exogenous=holidays_test[['School_holiday','Public_holiday']])"
      ],
      "execution_count": null,
      "outputs": []
    },
    {
      "cell_type": "code",
      "metadata": {
        "id": "hK2A7dytXMLq",
        "colab_type": "code",
        "colab": {}
      },
      "source": [
        "#predict for train\n",
        "in_sample_preds_ar_D = ar_D.predict_in_sample()"
      ],
      "execution_count": null,
      "outputs": []
    },
    {
      "cell_type": "markdown",
      "metadata": {
        "colab_type": "text",
        "id": "uPSBSQzJWy0S"
      },
      "source": [
        "### Error Metrics\n",
        "Calculation of MAPE, MAE and RMSE - Test"
      ]
    },
    {
      "cell_type": "code",
      "metadata": {
        "ExecuteTime": {
          "end_time": "2020-08-17T09:57:42.046193Z",
          "start_time": "2020-08-17T09:57:42.034969Z"
        },
        "colab_type": "code",
        "id": "nIQTKDLEWy0V",
        "colab": {}
      },
      "source": [
        "#evaluating model\n",
        "print('Mean absolute percentage error: ',mean_absolute_percentage_error(test_D.values, y_pred_ar_D))\n",
        "print('Mean absolute error: ',mean_absolute_error(test_D.values, y_pred_ar_D))\n",
        "print('Root Mean Square error: ',root_mean_squared_error(y_pred_ar_D,test_D.values))"
      ],
      "execution_count": null,
      "outputs": []
    },
    {
      "cell_type": "markdown",
      "metadata": {
        "colab_type": "text",
        "id": "hB9g90btWy0Z"
      },
      "source": [
        "Calculation of MAPE, MAE and RMSE - Train"
      ]
    },
    {
      "cell_type": "code",
      "metadata": {
        "colab_type": "code",
        "id": "OjaIOORjWy0Z",
        "colab": {}
      },
      "source": [
        "print('Mean absolute percentage error: ',mean_absolute_percentage_error(train_D.values, in_sample_preds_ar_D))\n",
        "print('Mean absolute error: ',mean_absolute_error(train_D.values, in_sample_preds_ar_D))\n",
        "print('Root Mean Square error: ',root_mean_squared_error(in_sample_preds_ar_D,train_D.values))"
      ],
      "execution_count": null,
      "outputs": []
    },
    {
      "cell_type": "markdown",
      "metadata": {
        "colab_type": "text",
        "id": "iv9HgFJEudIt"
      },
      "source": [
        "# Admissions Model"
      ]
    },
    {
      "cell_type": "markdown",
      "metadata": {
        "colab_type": "text",
        "id": "mI_HHl6hudIv"
      },
      "source": [
        "## AUTO ARIMA Implementation\n",
        "Running Auto Arima Model to find the p, d and q parameters values and predicting on the test data\n",
        "Exogenous variables - School and Public Holidays of 3 German states\n",
        "\n",
        "Best Model considered with Least AIC"
      ]
    },
    {
      "cell_type": "code",
      "metadata": {
        "ExecuteTime": {
          "end_time": "2020-08-17T09:57:42.027944Z",
          "start_time": "2020-08-17T09:56:57.294632Z"
        },
        "colab_type": "code",
        "id": "3febnfpZudIw",
        "colab": {}
      },
      "source": [
        "training model\n",
        "model_A = auto_arima(train_A, trace=True,start_p=0, start_q=0, start_P=0, start_Q=0,\n",
        "                  max_p=10, max_q=10, max_P=10, max_Q=10, seasonal=True,\n",
        "                  stepwise=False, suppress_warnings=True, D=1, max_D=10,\n",
        "                  error_action='ignore',approximation = False,exogenous=holidays_train[['School_holiday','Public_holiday']])\n",
        "#fitting model\n",
        "model_A.fit(train_A)\n",
        "#predicting values for test \n",
        "y_pred_A = model_A.predict(n_periods=test_A.shape[0],exogenous=holidays_test[['School_holiday','Public_holiday']])"
      ],
      "execution_count": null,
      "outputs": []
    },
    {
      "cell_type": "code",
      "metadata": {
        "id": "2WJw9qP0p4ro",
        "colab_type": "code",
        "colab": {}
      },
      "source": [
        "model_A"
      ],
      "execution_count": null,
      "outputs": []
    },
    {
      "cell_type": "code",
      "metadata": {
        "colab_type": "code",
        "id": "BDQ1ckpbudI3",
        "colab": {}
      },
      "source": [
        "#predict for train\n",
        "in_sample_preds_A = model_A.predict_in_sample()"
      ],
      "execution_count": null,
      "outputs": []
    },
    {
      "cell_type": "markdown",
      "metadata": {
        "colab_type": "text",
        "id": "X9Cwaqe8udI6"
      },
      "source": [
        "### Error Metrics\n",
        "Calculation of MAPE, MAE and RMSE - Test"
      ]
    },
    {
      "cell_type": "code",
      "metadata": {
        "ExecuteTime": {
          "end_time": "2020-08-17T09:57:42.046193Z",
          "start_time": "2020-08-17T09:57:42.034969Z"
        },
        "colab_type": "code",
        "id": "606j53sdudI6",
        "colab": {}
      },
      "source": [
        "# #evaluating model\n",
        "# print('Mean absolute percentage error: ',mean_absolute_percentage_error(test_A.values, y_pred_A))\n",
        "# print('Mean absolute error: ',mean_absolute_error(test_A.values, y_pred_A))\n",
        "# print('Root Mean Square error: ',root_mean_squared_error(y_pred_A,test_A.values))"
      ],
      "execution_count": null,
      "outputs": []
    },
    {
      "cell_type": "markdown",
      "metadata": {
        "colab_type": "text",
        "id": "zRW34SE0udI-"
      },
      "source": [
        "Calculation of MAPE, MAE and RMSE - Train"
      ]
    },
    {
      "cell_type": "code",
      "metadata": {
        "colab_type": "code",
        "id": "ZL_jk0DHudI_",
        "colab": {}
      },
      "source": [
        "# print('Mean absolute percentage error: ',mean_absolute_percentage_error(train_A.values, in_sample_preds_A))\n",
        "# print('Mean absolute error: ',mean_absolute_error(train_A.values, in_sample_preds_A))\n",
        "# print('Root Mean Square error: ',root_mean_squared_error(in_sample_preds_A,train_A.values))"
      ],
      "execution_count": null,
      "outputs": []
    },
    {
      "cell_type": "markdown",
      "metadata": {
        "colab_type": "text",
        "id": "JoaKdWFVudJE"
      },
      "source": [
        "## ARIMA \n",
        "Run the model on the Identified ARIMA model with least AIC"
      ]
    },
    {
      "cell_type": "markdown",
      "metadata": {
        "id": "gWFSX0PLe4NP",
        "colab_type": "text"
      },
      "source": [
        "### Implementation"
      ]
    },
    {
      "cell_type": "code",
      "metadata": {
        "colab_type": "code",
        "id": "B5pRLN4TudJF",
        "colab": {}
      },
      "source": [
        "ar_A = ARIMA(maxiter=50, method='lbfgs', order=(4, 1, 1), out_of_sample_size=0,\n",
        "      scoring='mse', scoring_args={}, seasonal_order=(0, 0, 0, 1),\n",
        "      start_params=None, suppress_warnings=True, trend=None,\n",
        "      with_intercept=True,exogenous=holidays_train[['School_holiday','Public_holiday']])\n",
        "#fitting model\n",
        "ar_A.fit(train_A)\n",
        "#predicting values for test\n",
        "y_pred_ar_A = ar_A.predict(n_periods=test_A.shape[0],exogenous=holidays_test[['School_holiday','Public_holiday']])"
      ],
      "execution_count": null,
      "outputs": []
    },
    {
      "cell_type": "code",
      "metadata": {
        "colab_type": "code",
        "id": "n8TGbdDcudJK",
        "colab": {}
      },
      "source": [
        "#predict for train\n",
        "in_sample_preds_ar_A = ar_A.predict_in_sample()"
      ],
      "execution_count": null,
      "outputs": []
    },
    {
      "cell_type": "markdown",
      "metadata": {
        "colab_type": "text",
        "id": "EceRluk2udJN"
      },
      "source": [
        "### Error Metrics\n",
        "Calculation of MAPE, MAE and RMSE - Test"
      ]
    },
    {
      "cell_type": "code",
      "metadata": {
        "ExecuteTime": {
          "end_time": "2020-08-17T09:57:42.046193Z",
          "start_time": "2020-08-17T09:57:42.034969Z"
        },
        "colab_type": "code",
        "id": "1HjA_pjnudJP",
        "colab": {}
      },
      "source": [
        "#evaluating model\n",
        "print('Mean absolute percentage error: ',mean_absolute_percentage_error(test_A.values, y_pred_ar_A))\n",
        "print('Mean absolute error: ',mean_absolute_error(test_A.values, y_pred_ar_A))\n",
        "print('Root Mean Square error: ',root_mean_squared_error(y_pred_ar_A,test_A.values))"
      ],
      "execution_count": null,
      "outputs": []
    },
    {
      "cell_type": "markdown",
      "metadata": {
        "colab_type": "text",
        "id": "5CB7UhCdudJT"
      },
      "source": [
        "Calculation of MAPE, MAE and RMSE - Train"
      ]
    },
    {
      "cell_type": "code",
      "metadata": {
        "colab_type": "code",
        "id": "3ZDDs3HhudJU",
        "colab": {}
      },
      "source": [
        "print('Mean absolute percentage error: ',mean_absolute_percentage_error(train_A.values, in_sample_preds_ar_A))\n",
        "print('Mean absolute error: ',mean_absolute_error(train_A.values, in_sample_preds_ar_A))\n",
        "print('Root Mean Square error: ',root_mean_squared_error(in_sample_preds_ar_A,train_A.values))"
      ],
      "execution_count": null,
      "outputs": []
    },
    {
      "cell_type": "markdown",
      "metadata": {
        "id": "KVhGrvLAOxnJ",
        "colab_type": "text"
      },
      "source": [
        "# Finding Occupancy from predicted Admisisons + Discharges \n",
        "\n",
        "Considering the previous occupancy of the last day of training data to find the Occupancy based on the predicted Admissions and Discharges"
      ]
    },
    {
      "cell_type": "markdown",
      "metadata": {
        "id": "_V4SkOdrKJQw",
        "colab_type": "text"
      },
      "source": [
        "### Occupancy Calculation for the Test data "
      ]
    },
    {
      "cell_type": "code",
      "metadata": {
        "id": "Ns5m53jRPDif",
        "colab_type": "code",
        "colab": {}
      },
      "source": [
        "#Defining the Occupancy dataframe based on the predicted Admissions and Discharges\n",
        "O_df = pd.DataFrame(columns = ['Date','Admissions','Discharges','Occupancy'])\n",
        "O_df['Date'] = test_A.index\n",
        "O_df['Admissions'] = y_pred_ar_A \n",
        "O_df['Discharges'] = y_pred_D\n",
        "#Getting the Previous Occupancy of the last day of Training data\n",
        "PreviousOccupancy = 114\n",
        "\n",
        "#Empty dataframe to append the calculated Occupancy\n",
        "Occupancy = []\n",
        "\n",
        "#Loop to calculate Occupancy for the Test data based on the predicted Admissions and Discharges\n",
        "for i,row in O_df.iterrows():\n",
        "  PreviousOccupancy = PreviousOccupancy + row['Admissions'] - row['Discharges']\n",
        "  Occupancy.append(PreviousOccupancy)\n",
        "\n",
        "O_df['Occupancy'] = Occupancy"
      ],
      "execution_count": null,
      "outputs": []
    },
    {
      "cell_type": "code",
      "metadata": {
        "id": "hi8awBr4MIPP",
        "colab_type": "code",
        "colab": {}
      },
      "source": [
        "O_df.to_csv(r'O_df_ARIMA.csv')"
      ],
      "execution_count": null,
      "outputs": []
    },
    {
      "cell_type": "markdown",
      "metadata": {
        "id": "IYQbzpyNJ_6Z",
        "colab_type": "text"
      },
      "source": [
        "### Occupancy Calculation for the Train data "
      ]
    },
    {
      "cell_type": "code",
      "metadata": {
        "id": "X0lg2Zc6SeLM",
        "colab_type": "code",
        "colab": {}
      },
      "source": [
        "#Defining the Occupancy dataframe based on the train Admissions and Discharges\n",
        "O_dft = pd.DataFrame(columns = ['Date','Admissions','Discharges','Occupancy'])\n",
        "O_dft['Date'] = train_A.index\n",
        "O_dft['Admissions'] = in_sample_preds_ar_A\n",
        "O_dft['Discharges'] = in_sample_preds_ar_D\n",
        "#Getting the Previous Occupancy of the last day of Training data\n",
        "PreviousOccupancy = 139\n",
        "#Empty dataframe to append the calculated Occupancy\n",
        "Occupancy = []\n",
        "\n",
        "#Loop to calculate Occupancy for the Test data based on the predicted Admissions and Discharges\n",
        "for i,row in O_dft.iterrows():\n",
        "  PreviousOccupancy = PreviousOccupancy + row['Admissions'] - row['Discharges']\n",
        "  Occupancy.append(PreviousOccupancy)\n",
        "\n",
        "O_dft['Occupancy'] = Occupancy"
      ],
      "execution_count": null,
      "outputs": []
    },
    {
      "cell_type": "markdown",
      "metadata": {
        "id": "v4mio9rHPlRn",
        "colab_type": "text"
      },
      "source": [
        "Actual vs Predicted Occupancy plot"
      ]
    },
    {
      "cell_type": "markdown",
      "metadata": {
        "id": "aFSbKey_cRrU",
        "colab_type": "text"
      },
      "source": [
        "## Error Metrics\n"
      ]
    },
    {
      "cell_type": "markdown",
      "metadata": {
        "id": "paQxHSbMeZjL",
        "colab_type": "text"
      },
      "source": [
        "MAPE,RMSE And MAE for Calculated Occupancy - Test"
      ]
    },
    {
      "cell_type": "code",
      "metadata": {
        "id": "ZCKQvHm8cW4G",
        "colab_type": "code",
        "colab": {}
      },
      "source": [
        "print('Mean absolute percentage error: ',mean_absolute_percentage_error(test_O['Occupancy'].values,O_df['Occupancy'].values))\n",
        "print('Mean absolute error: ',mean_absolute_error(test_O['Occupancy'].values,O_df['Occupancy'].values))\n",
        "print('Root Mean Square error: ',root_mean_squared_error(O_df['Occupancy'].values,test_O['Occupancy'].values))"
      ],
      "execution_count": null,
      "outputs": []
    },
    {
      "cell_type": "markdown",
      "metadata": {
        "id": "EGsxXoNeQhQE",
        "colab_type": "text"
      },
      "source": [
        "MAPE,RMSE And MAE for Calculated Occupancy - Train"
      ]
    },
    {
      "cell_type": "code",
      "metadata": {
        "id": "aTUsn4zBPgHc",
        "colab_type": "code",
        "colab": {}
      },
      "source": [
        "print('Mean absolute percentage error: ',mean_absolute_percentage_error(train_O['Occupancy'].values,O_dft['Occupancy'].values))\n",
        "print('Mean absolute error: ',mean_absolute_error(train_O['Occupancy'].values,O_dft['Occupancy'].values))\n",
        "print('Root Mean Square error: ',root_mean_squared_error(O_dft['Occupancy'].values,train_O['Occupancy'].values))"
      ],
      "execution_count": null,
      "outputs": []
    },
    {
      "cell_type": "markdown",
      "metadata": {
        "colab_type": "text",
        "id": "dc69SLMLJxW-"
      },
      "source": [
        "# Plots\n"
      ]
    },
    {
      "cell_type": "markdown",
      "metadata": {
        "id": "jxHDin25egwH",
        "colab_type": "text"
      },
      "source": [
        "\n",
        "Actual vs Predictions (Test)"
      ]
    },
    {
      "cell_type": "code",
      "metadata": {
        "id": "eueoccKrPkXD",
        "colab_type": "code",
        "colab": {}
      },
      "source": [
        "# A vs P plot\n",
        "ax = O_df.plot(x='Date',y='Occupancy',label='Predictions',legend=True,figsize=(6,4))\n",
        "test_O.plot(y='Occupancy',label='Actual',legend=True,ax=ax)"
      ],
      "execution_count": null,
      "outputs": []
    },
    {
      "cell_type": "code",
      "metadata": {
        "id": "zdv397Dp7U8W",
        "colab_type": "code",
        "colab": {}
      },
      "source": [
        "O_df"
      ],
      "execution_count": null,
      "outputs": []
    },
    {
      "cell_type": "markdown",
      "metadata": {
        "id": "k1RzNxIEei0m",
        "colab_type": "text"
      },
      "source": [
        "\n",
        "Actual vs Predictions (Train)"
      ]
    },
    {
      "cell_type": "code",
      "metadata": {
        "id": "ThRHCLiv_FAP",
        "colab_type": "code",
        "colab": {}
      },
      "source": [
        "# A vs P plot\n",
        "ax = O_dft.plot(x='Date',y='Occupancy',label='Predictions',legend=True,figsize=(6,4))\n",
        "train_O.plot(y='Occupancy',label='Actual',legend=True,ax=ax)"
      ],
      "execution_count": null,
      "outputs": []
    },
    {
      "cell_type": "markdown",
      "metadata": {
        "id": "Y7g6xg1XVJwd",
        "colab_type": "text"
      },
      "source": [
        "# 12 months rolling evaluation"
      ]
    },
    {
      "cell_type": "code",
      "metadata": {
        "id": "fV6AL3yyRUTn",
        "colab_type": "code",
        "colab": {}
      },
      "source": [
        "# Initialisation model\n",
        "Train_Start = pd.to_datetime('01-01-2008',format='%d-%m-%Y')\n",
        "# replace year only\n",
        "Train_End = pd.to_datetime('31-12-2012',format='%d-%m-%Y')\n",
        "print(Train_Start)\n",
        "print(Train_End)\n",
        "\n",
        "Test_Start = Train_End + pd.to_timedelta(1, unit='D')\n",
        "Test_End= Test_Start + pd.to_timedelta(29, unit='D')\n",
        "print(Test_Start)\n",
        "print(Test_End)\n",
        "\n",
        "training_time = pd.DataFrame()\n",
        "mape = []\n",
        "mae = []\n",
        "rmse = []\n",
        "Train_S =[]\n",
        "Train_E =[]\n",
        "Test_S =[]\n",
        "Test_E =[]\n",
        "\n",
        "#only for occupancy calculation\n",
        "Hospital_df = pd.read_csv('ProcessedDataset.csv',parse_dates=True)\n",
        "# Change the date format\n",
        "Hospital_df['Date'] = pd.to_datetime(Hospital_df['Date'], format='%d-%m-%Y')\n",
        "Hospital_df.index = Hospital_df['Date']\n",
        "\n",
        "for i in range(1,13):\n",
        "  print('********************************')\n",
        "  print(i)\n",
        "  Train_S.append(Train_Start)\n",
        "  Train_E.append(Train_End)\n",
        "  Test_S.append(Test_Start)\n",
        "  Test_E.append(Test_End)\n",
        "\n",
        "  # Before Training\n",
        "  Test_df_D = df_D.loc[Test_Start:Test_End]\n",
        "  Train_df_D = df_D.loc[Train_Start:Train_End]\n",
        "  Test_df_A = df_A.loc[Test_Start:Test_End]\n",
        "  Train_df_A = df_A.loc[Train_Start:Train_End]\n",
        "  Test_df_O = Hospital_df.loc[Test_Start:Test_End]\n",
        "  Train_df_O = Hospital_df.loc[Train_Start:Train_End]\n",
        "  #arima discharges model\n",
        "  ar_D = ARIMA(maxiter=50, method='lbfgs', order=(4, 1, 1), out_of_sample_size=0,\n",
        "      scoring='mse', scoring_args={}, seasonal_order=(0, 0, 0, 1),\n",
        "      start_params=None, suppress_warnings=True, trend=None,\n",
        "      with_intercept=True,exogenous=holidays_train[['School_holiday','Public_holiday']])\n",
        "  #fitting model\n",
        "  ar_D.fit(Train_df_D)\n",
        "  #predicting values for test\n",
        "  y_pred_ar_D = ar_D.predict(n_periods=Test_df_D.shape[0],exogenous=holidays_test[['School_holiday','Public_holiday']])\n",
        "\n",
        "  #arima admissions model\n",
        "  ar_A = ARIMA(maxiter=50, method='lbfgs', order=(4, 1, 1), out_of_sample_size=0,\n",
        "      scoring='mse', scoring_args={}, seasonal_order=(0, 0, 0, 1),\n",
        "      start_params=None, suppress_warnings=True, trend=None,\n",
        "      with_intercept=True,exogenous=holidays_train[['School_holiday','Public_holiday']])\n",
        "  #fitting model\n",
        "  ar_A.fit(Train_df_A)\n",
        "  #predicting values for test\n",
        "  y_pred_ar_A = ar_A.predict(n_periods=Test_df_A.shape[0],exogenous=holidays_test[['School_holiday','Public_holiday']])\n",
        "\n",
        "  #Defining the Occupancy dataframe based on the predicted Admissions and Discharges\n",
        "  O_df = pd.DataFrame(columns = ['Date','Admissions','Discharges','Occupancy'])\n",
        "  O_df['Date'] = test_A.index\n",
        "  O_df['Admissions'] = y_pred_ar_A \n",
        "  O_df['Discharges'] = y_pred_ar_D\n",
        "  #Getting the Previous Occupancy of the last day of Training data\n",
        "  PreviousOccupancy = Train_df_O.iloc[-1, 3]\n",
        "  print(PreviousOccupancy)\n",
        "  #Empty dataframe to append the calculated Occupancy\n",
        "  Occupancy = []\n",
        "\n",
        "  #Loop to calculate Occupancy for the Test data based on the predicted Admissions and Discharges\n",
        "  for i,row in O_df.iterrows():\n",
        "    PreviousOccupancy = PreviousOccupancy + row['Admissions'] - row['Discharges']\n",
        "    Occupancy.append(PreviousOccupancy)\n",
        "\n",
        "  O_df['Occupancy'] = Occupancy\n",
        "  mape_eachtraining = mean_absolute_percentage_error(Test_df_O['Occupancy'].values,O_df['Occupancy'].values)\n",
        "  rmse_eachtraining = root_mean_squared_error(O_df['Occupancy'].values,Test_df_O['Occupancy'].values)\n",
        "  mae_eachtraining = mean_absolute_error(Test_df_O['Occupancy'].values,O_df['Occupancy'].values)\n",
        "  print('Mean absolute percentage error: ',mape_eachtraining)\n",
        "  mape.append(mape_eachtraining)\n",
        "  rmse.append(rmse_eachtraining)\n",
        "  mae.append(mae_eachtraining)\n",
        "\n",
        "  # After Training\n",
        "  Train_Start = Train_Start + pd.to_timedelta(30, unit='D')\n",
        "  Train_End = Train_End + pd.to_timedelta(30, unit='D')\n",
        "  print(Train_Start)\n",
        "  print(Train_End)\n",
        "\n",
        "  Test_Start = Test_Start + pd.to_timedelta(30, unit='D')\n",
        "  Test_End= Test_End + pd.to_timedelta(30, unit='D')\n",
        "  print(Test_Start)\n",
        "  print(Test_End)\n",
        "\n",
        "training_time['Train_Start']= Train_S\n",
        "training_time['Train_End']= Train_E\n",
        "training_time['Test_Start']= Test_S\n",
        "training_time['Test_End']= Test_E\n",
        "training_time['MAPE']= mape\n",
        "training_time['RMSE']= rmse\n",
        "training_time['MAE']= mae"
      ],
      "execution_count": null,
      "outputs": []
    },
    {
      "cell_type": "code",
      "metadata": {
        "id": "17i3VLSRiAX2",
        "colab_type": "code",
        "colab": {}
      },
      "source": [
        "print('Average MAPE on 12 Validation Sets:',np.mean(training_time['MAPE']))\n",
        "training_time.to_csv('Model3.csv')"
      ],
      "execution_count": null,
      "outputs": []
    },
    {
      "cell_type": "code",
      "metadata": {
        "id": "ytGkFPvXM6FP",
        "colab_type": "code",
        "colab": {}
      },
      "source": [
        "training_time"
      ],
      "execution_count": null,
      "outputs": []
    },
    {
      "cell_type": "code",
      "metadata": {
        "id": "ZN_Dpl1T8CEO",
        "colab_type": "code",
        "colab": {}
      },
      "source": [
        "training_time"
      ],
      "execution_count": null,
      "outputs": []
    }
  ]
}