{
  "nbformat": 4,
  "nbformat_minor": 0,
  "metadata": {
    "colab": {
      "name": "DataProcessing.ipynb",
      "provenance": [],
      "collapsed_sections": []
    },
    "kernelspec": {
      "name": "python3",
      "display_name": "Python 3"
    }
  },
  "cells": [
    {
      "cell_type": "code",
      "metadata": {
        "id": "nXyXcjCXo-9A",
        "colab_type": "code",
        "colab": {}
      },
      "source": [
        "import pandas as pd\n",
        "import numpy as np\n",
        "from datetime import datetime,timedelta\n",
        "\n",
        "from matplotlib import cm\n",
        "import matplotlib.pyplot as plt\n",
        "plt.rcParams[\"font.family\"] = \"serif\"\n",
        "plt.rcParams[\"mathtext.fontset\"] = \"dejavuserif\""
      ],
      "execution_count": null,
      "outputs": []
    },
    {
      "cell_type": "code",
      "metadata": {
        "id": "5o7NrGWdt2UH",
        "colab_type": "code",
        "colab": {}
      },
      "source": [
        "# from google.colab import drive\n",
        "# drive.mount('/content/drive')\n",
        "path = \"/content/drive/My Drive/Thesis/CleanData_withDate.csv\"\n",
        "data = pd.read_csv(path)\n",
        "#Consider only last 2 columns\n",
        "data = data[['Admission_D','Discharge_D']]\n",
        "#Extract only the date part\n",
        "data[['Admission_D','Discharge_D']] = data[['Admission_D','Discharge_D']].apply(pd.to_datetime)"
      ],
      "execution_count": null,
      "outputs": []
    },
    {
      "cell_type": "code",
      "metadata": {
        "id": "OfDyw-iI2riu",
        "colab_type": "code",
        "colab": {}
      },
      "source": [
        "#Check for any missing values\n",
        "data.isnull().sum()"
      ],
      "execution_count": null,
      "outputs": []
    },
    {
      "cell_type": "code",
      "metadata": {
        "id": "I6lCqy8YqQI8",
        "colab_type": "code",
        "colab": {}
      },
      "source": [
        "admission_start = data['Admission_D'].iloc[0]\n",
        "admission_end = data['Admission_D'].iloc[-1]\n",
        "\n",
        "discharge_start = data['Discharge_D'].iloc[0]\n",
        "discharge_end = data['Discharge_D'].iloc[-1]\n",
        "\n",
        "start = max(admission_start, discharge_start)\n",
        "end = min(admission_end, discharge_end)\n",
        "\n",
        "shifted_start = start + timedelta(days=1)\n",
        "shifted_end = end + timedelta(days=1)"
      ],
      "execution_count": null,
      "outputs": []
    },
    {
      "cell_type": "code",
      "metadata": {
        "id": "ifHCzxRSqSKF",
        "colab_type": "code",
        "colab": {}
      },
      "source": [
        "# TRIALS\n",
        "print(admission_start)\n",
        "print(discharge_start)\n",
        "print(admission_end)\n",
        "print(discharge_end)\n",
        "print(start)\n",
        "print(end)\n",
        "print(shifted_start)\n",
        "print(shifted_end)"
      ],
      "execution_count": null,
      "outputs": []
    },
    {
      "cell_type": "code",
      "metadata": {
        "id": "vvpEKurYrnKt",
        "colab_type": "code",
        "colab": {}
      },
      "source": [
        "date_range = pd.date_range(start=start.date(), end=end.date())\n",
        "shifted_range = pd.date_range(start=shifted_start.date(), end=shifted_end.date())"
      ],
      "execution_count": null,
      "outputs": []
    },
    {
      "cell_type": "code",
      "metadata": {
        "id": "Dd6MTdMIsrKB",
        "colab_type": "code",
        "colab": {}
      },
      "source": [
        "data_per_day = {'Admissions': np.zeros(len(date_range)),\n",
        "                'Discharges': np.zeros(len(date_range)), \n",
        "                'Occupancy':  np.zeros(len(date_range))}               "
      ],
      "execution_count": null,
      "outputs": []
    },
    {
      "cell_type": "code",
      "metadata": {
        "id": "mgqNdYVUtDxD",
        "colab_type": "code",
        "colab": {}
      },
      "source": [
        "i = 0\n",
        "occupancy_before = 0\n",
        "for date, shifted_date in zip(date_range, shifted_range):\n",
        "    cond_1 = date <= data['Admission_D']\n",
        "    cond_2 = data['Admission_D'] < shifted_date\n",
        "    data_per_day['Admissions'][i] = len(data[cond_1 & cond_2])\n",
        "    \n",
        "    cond_1 = date <= data['Discharge_D']\n",
        "    cond_2 = data['Discharge_D'] < shifted_date\n",
        "    data_per_day['Discharges'][i] = len(data[cond_1 & cond_2])\n",
        "    \n",
        "    data_per_day['Occupancy'][i] = occupancy_before + data_per_day['Admissions'][i] - data_per_day['Discharges'][i]\n",
        "    occupancy_before = data_per_day['Occupancy'][i]\n",
        "    i = i+1"
      ],
      "execution_count": null,
      "outputs": []
    },
    {
      "cell_type": "code",
      "metadata": {
        "id": "qo_whkGttI4I",
        "colab_type": "code",
        "colab": {}
      },
      "source": [
        "#Adding the day_of_week,day_of_year,week_of_year and year fields and creating the dataset\n",
        "df = pd.DataFrame(data_per_day, index = date_range)\n",
        "#Adding the day of the week part(Monday = 0 and Sunday = 6)\n",
        "s = date_range.to_series()\n",
        "day_of_week = s.dt.dayofweek.values\n",
        "day_of_year = s.dt.dayofyear.values\n",
        "week_of_year = s.dt.weekofyear.values\n",
        "year = s.dt.year.values\n",
        "\n",
        "df['Day_of_week'] = pd.DataFrame(day_of_week, index = date_range) \n",
        "df['Day_of_year'] = pd.DataFrame(day_of_year, index = date_range) \n",
        "df['Week_of_year'] = pd.DataFrame(week_of_year, index = date_range)\n",
        "df['Year'] = pd.DataFrame(year, index = date_range)\n",
        "df['Month_Name'] = pd.DataFrame(s.dt.month_name(), index = date_range)\n",
        "df['Month'] = pd.DataFrame(s.dt.month.values, index = date_range)"
      ],
      "execution_count": null,
      "outputs": []
    },
    {
      "cell_type": "code",
      "metadata": {
        "id": "f7w_WHPxY1CF",
        "colab_type": "code",
        "colab": {}
      },
      "source": [
        "# Adding Public Holidays\n",
        "import holidays\n",
        "# Baden-Württemberg = BW\n",
        "holidays_BW = holidays.Germany(prov = 'BW', years=range(2002,2016))\n",
        "# Hessen(Hesse) = HE\n",
        "holidays_HE = holidays.Germany(prov = 'HE', years=range(2002,2016))\n",
        "# Rheinland-Pfalz(Rhineland-Palatinate) = RP\n",
        "holidays_RP = holidays.Germany(prov = 'RP', years=range(2002,2016))\n",
        "\n",
        "df['P_BW'] = (df.index.isin(holidays_BW)).astype(int)\n",
        "df['P_H'] = (df.index.isin(holidays_HE)).astype(int)\n",
        "df['P_RP'] = (df.index.isin(holidays_RP)).astype(int)"
      ],
      "execution_count": null,
      "outputs": []
    },
    {
      "cell_type": "code",
      "metadata": {
        "id": "PXq2KpUNiE1d",
        "colab_type": "code",
        "colab": {}
      },
      "source": [
        "#Removing the 2002 and 2015 data\n",
        "df_processeddata = df[df['Year'] != 2002] \n",
        "df_processeddata = df_processeddata[df_processeddata['Year'] != 2015] \n",
        "# df_processeddata.append(schoolholiday)\n",
        "df_processeddata.to_csv(r'ProcessedDataset.csv',index_label='Date')"
      ],
      "execution_count": null,
      "outputs": []
    }
  ]
}